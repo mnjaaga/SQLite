{
 "cells": [
  {
   "cell_type": "markdown",
   "metadata": {},
   "source": [
    "**Problem statement**\n",
    "\n",
    "\n",
    "You have been hired by the Ministry of Higher Education in the ROK. The company had a lot of\n",
    "\n",
    "data and data points to various activities and departments including teachers records. They store a lot of the data in the\n",
    "\n",
    "CSV/Xcel format.\n",
    "\n",
    "You have been hired to resolve the issue and store this same data in a persistence format as in a SQLite database.\n",
    "\n",
    "Being a Data Scientist you are, the ministry is relying on your expertise and your thought process.\n",
    "\n",
    "Based on your experience and reputation of SQLite relational database Management system, you decided to use it in with \n",
    "\n",
    "combination with Pandas and Python to do the job.\n",
    "\n",
    "Your work is to ingest the CSV/Excel datafile, store it in a SQLite database and also be able to display it in a browser \n",
    "\n",
    "for the employees and department bosses to use it.\n",
    "\n",
    "That means you will have to display the results in HTML tables and style it beautifully with CSS."
   ]
  },
  {
   "cell_type": "markdown",
   "metadata": {},
   "source": [
    "**Import Libraries**"
   ]
  },
  {
   "cell_type": "code",
   "execution_count": 7,
   "metadata": {},
   "outputs": [],
   "source": [
    "import pandas as pd\n",
    "import csv\n",
    "import sqlite3\n",
    "import csv\n"
   ]
  },
  {
   "cell_type": "markdown",
   "metadata": {},
   "source": [
    "**Read csv data into DataFrame**"
   ]
  },
  {
   "cell_type": "code",
   "execution_count": 8,
   "metadata": {},
   "outputs": [
    {
     "data": {
      "text/html": [
       "<div>\n",
       "<style scoped>\n",
       "    .dataframe tbody tr th:only-of-type {\n",
       "        vertical-align: middle;\n",
       "    }\n",
       "\n",
       "    .dataframe tbody tr th {\n",
       "        vertical-align: top;\n",
       "    }\n",
       "\n",
       "    .dataframe thead th {\n",
       "        text-align: right;\n",
       "    }\n",
       "</style>\n",
       "<table border=\"1\" class=\"dataframe\">\n",
       "  <thead>\n",
       "    <tr style=\"text-align: right;\">\n",
       "      <th></th>\n",
       "      <th>COUNTY</th>\n",
       "      <th>School Type</th>\n",
       "      <th>Employment Body</th>\n",
       "      <th>No. of Teachers</th>\n",
       "      <th>County (centroid)</th>\n",
       "      <th>Year</th>\n",
       "    </tr>\n",
       "  </thead>\n",
       "  <tbody>\n",
       "    <tr>\n",
       "      <th>0</th>\n",
       "      <td>Baringo</td>\n",
       "      <td>Public</td>\n",
       "      <td>TSC</td>\n",
       "      <td>1172</td>\n",
       "      <td>(0.669252, 35.946465)</td>\n",
       "      <td>12/31/2014 12:00:00 AM</td>\n",
       "    </tr>\n",
       "    <tr>\n",
       "      <th>1</th>\n",
       "      <td>Bomet</td>\n",
       "      <td>Public</td>\n",
       "      <td>TSC</td>\n",
       "      <td>1379</td>\n",
       "      <td>(-0.726295, 35.298598)</td>\n",
       "      <td>12/31/2014 12:00:00 AM</td>\n",
       "    </tr>\n",
       "    <tr>\n",
       "      <th>2</th>\n",
       "      <td>Bungoma</td>\n",
       "      <td>Public</td>\n",
       "      <td>TSC</td>\n",
       "      <td>2946</td>\n",
       "      <td>(0.749285, 34.640461)</td>\n",
       "      <td>12/31/2014 12:00:00 AM</td>\n",
       "    </tr>\n",
       "    <tr>\n",
       "      <th>3</th>\n",
       "      <td>Busia</td>\n",
       "      <td>Public</td>\n",
       "      <td>TSC</td>\n",
       "      <td>1182</td>\n",
       "      <td>(0.387444, 34.193631)</td>\n",
       "      <td>12/31/2014 12:00:00 AM</td>\n",
       "    </tr>\n",
       "    <tr>\n",
       "      <th>4</th>\n",
       "      <td>Elgeyo Marakwet</td>\n",
       "      <td>Public</td>\n",
       "      <td>TSC</td>\n",
       "      <td>1087</td>\n",
       "      <td>(0.802219, 35.536563)</td>\n",
       "      <td>12/31/2014 12:00:00 AM</td>\n",
       "    </tr>\n",
       "  </tbody>\n",
       "</table>\n",
       "</div>"
      ],
      "text/plain": [
       "            COUNTY School Type Employment Body  No. of Teachers  \\\n",
       "0  Baringo             Public          TSC                 1172   \n",
       "1  Bomet               Public          TSC                 1379   \n",
       "2  Bungoma             Public          TSC                 2946   \n",
       "3  Busia               Public          TSC                 1182   \n",
       "4  Elgeyo Marakwet     Public          TSC                 1087   \n",
       "\n",
       "        County (centroid)                    Year  \n",
       "0   (0.669252, 35.946465)  12/31/2014 12:00:00 AM  \n",
       "1  (-0.726295, 35.298598)  12/31/2014 12:00:00 AM  \n",
       "2   (0.749285, 34.640461)  12/31/2014 12:00:00 AM  \n",
       "3   (0.387444, 34.193631)  12/31/2014 12:00:00 AM  \n",
       "4   (0.802219, 35.536563)  12/31/2014 12:00:00 AM  "
      ]
     },
     "execution_count": 8,
     "metadata": {},
     "output_type": "execute_result"
    }
   ],
   "source": [
    "df = pd.read_csv('C:\\\\Users\\mnjaa\\Downloads\\\\teacher_by_status_and_county_for_secondary.csv')\n",
    "df.head()"
   ]
  },
  {
   "cell_type": "markdown",
   "metadata": {},
   "source": [
    "**Drop County (Centroid) attribute**"
   ]
  },
  {
   "cell_type": "code",
   "execution_count": 9,
   "metadata": {},
   "outputs": [
    {
     "data": {
      "text/html": [
       "<div>\n",
       "<style scoped>\n",
       "    .dataframe tbody tr th:only-of-type {\n",
       "        vertical-align: middle;\n",
       "    }\n",
       "\n",
       "    .dataframe tbody tr th {\n",
       "        vertical-align: top;\n",
       "    }\n",
       "\n",
       "    .dataframe thead th {\n",
       "        text-align: right;\n",
       "    }\n",
       "</style>\n",
       "<table border=\"1\" class=\"dataframe\">\n",
       "  <thead>\n",
       "    <tr style=\"text-align: right;\">\n",
       "      <th></th>\n",
       "      <th>COUNTY</th>\n",
       "      <th>School Type</th>\n",
       "      <th>Employment Body</th>\n",
       "      <th>No. of Teachers</th>\n",
       "      <th>Year</th>\n",
       "    </tr>\n",
       "  </thead>\n",
       "  <tbody>\n",
       "    <tr>\n",
       "      <th>0</th>\n",
       "      <td>Baringo</td>\n",
       "      <td>Public</td>\n",
       "      <td>TSC</td>\n",
       "      <td>1172</td>\n",
       "      <td>12/31/2014 12:00:00 AM</td>\n",
       "    </tr>\n",
       "    <tr>\n",
       "      <th>1</th>\n",
       "      <td>Bomet</td>\n",
       "      <td>Public</td>\n",
       "      <td>TSC</td>\n",
       "      <td>1379</td>\n",
       "      <td>12/31/2014 12:00:00 AM</td>\n",
       "    </tr>\n",
       "    <tr>\n",
       "      <th>2</th>\n",
       "      <td>Bungoma</td>\n",
       "      <td>Public</td>\n",
       "      <td>TSC</td>\n",
       "      <td>2946</td>\n",
       "      <td>12/31/2014 12:00:00 AM</td>\n",
       "    </tr>\n",
       "    <tr>\n",
       "      <th>3</th>\n",
       "      <td>Busia</td>\n",
       "      <td>Public</td>\n",
       "      <td>TSC</td>\n",
       "      <td>1182</td>\n",
       "      <td>12/31/2014 12:00:00 AM</td>\n",
       "    </tr>\n",
       "    <tr>\n",
       "      <th>4</th>\n",
       "      <td>Elgeyo Marakwet</td>\n",
       "      <td>Public</td>\n",
       "      <td>TSC</td>\n",
       "      <td>1087</td>\n",
       "      <td>12/31/2014 12:00:00 AM</td>\n",
       "    </tr>\n",
       "    <tr>\n",
       "      <th>...</th>\n",
       "      <td>...</td>\n",
       "      <td>...</td>\n",
       "      <td>...</td>\n",
       "      <td>...</td>\n",
       "      <td>...</td>\n",
       "    </tr>\n",
       "    <tr>\n",
       "      <th>187</th>\n",
       "      <td>Uasin Gishu</td>\n",
       "      <td>Private</td>\n",
       "      <td>TSC</td>\n",
       "      <td>0</td>\n",
       "      <td>12/31/2014 12:00:00 AM</td>\n",
       "    </tr>\n",
       "    <tr>\n",
       "      <th>188</th>\n",
       "      <td>Vihiga</td>\n",
       "      <td>Private</td>\n",
       "      <td>TSC</td>\n",
       "      <td>0</td>\n",
       "      <td>12/31/2014 12:00:00 AM</td>\n",
       "    </tr>\n",
       "    <tr>\n",
       "      <th>189</th>\n",
       "      <td>Wajir</td>\n",
       "      <td>Private</td>\n",
       "      <td>TSC</td>\n",
       "      <td>0</td>\n",
       "      <td>12/31/2014 12:00:00 AM</td>\n",
       "    </tr>\n",
       "    <tr>\n",
       "      <th>190</th>\n",
       "      <td>West Pokot</td>\n",
       "      <td>Private</td>\n",
       "      <td>TSC</td>\n",
       "      <td>0</td>\n",
       "      <td>12/31/2014 12:00:00 AM</td>\n",
       "    </tr>\n",
       "    <tr>\n",
       "      <th>191</th>\n",
       "      <td>Kenya</td>\n",
       "      <td>Private</td>\n",
       "      <td>TSC</td>\n",
       "      <td>0</td>\n",
       "      <td>12/31/2014 12:00:00 AM</td>\n",
       "    </tr>\n",
       "  </tbody>\n",
       "</table>\n",
       "<p>192 rows × 5 columns</p>\n",
       "</div>"
      ],
      "text/plain": [
       "              COUNTY School Type Employment Body  No. of Teachers  \\\n",
       "0    Baringo             Public          TSC                 1172   \n",
       "1    Bomet               Public          TSC                 1379   \n",
       "2    Bungoma             Public          TSC                 2946   \n",
       "3    Busia               Public          TSC                 1182   \n",
       "4    Elgeyo Marakwet     Public          TSC                 1087   \n",
       "..               ...         ...             ...              ...   \n",
       "187  Uasin Gishu         Private         TSC                    0   \n",
       "188  Vihiga              Private         TSC                    0   \n",
       "189  Wajir               Private         TSC                    0   \n",
       "190  West Pokot          Private         TSC                    0   \n",
       "191  Kenya               Private         TSC                    0   \n",
       "\n",
       "                       Year  \n",
       "0    12/31/2014 12:00:00 AM  \n",
       "1    12/31/2014 12:00:00 AM  \n",
       "2    12/31/2014 12:00:00 AM  \n",
       "3    12/31/2014 12:00:00 AM  \n",
       "4    12/31/2014 12:00:00 AM  \n",
       "..                      ...  \n",
       "187  12/31/2014 12:00:00 AM  \n",
       "188  12/31/2014 12:00:00 AM  \n",
       "189  12/31/2014 12:00:00 AM  \n",
       "190  12/31/2014 12:00:00 AM  \n",
       "191  12/31/2014 12:00:00 AM  \n",
       "\n",
       "[192 rows x 5 columns]"
      ]
     },
     "execution_count": 9,
     "metadata": {},
     "output_type": "execute_result"
    }
   ],
   "source": [
    "df.drop('County (centroid)', inplace=True, axis=1)\n",
    "df"
   ]
  },
  {
   "cell_type": "code",
   "execution_count": 10,
   "metadata": {},
   "outputs": [
    {
     "data": {
      "text/plain": [
       "Index(['COUNTY', 'School Type', 'Employment Body', 'No. of Teachers', 'Year'], dtype='object')"
      ]
     },
     "execution_count": 10,
     "metadata": {},
     "output_type": "execute_result"
    }
   ],
   "source": [
    "df.columns\n"
   ]
  },
  {
   "cell_type": "code",
   "execution_count": 11,
   "metadata": {},
   "outputs": [
    {
     "name": "stdout",
     "output_type": "stream",
     "text": [
      "<class 'pandas.core.frame.DataFrame'>\n",
      "RangeIndex: 192 entries, 0 to 191\n",
      "Data columns (total 5 columns):\n",
      " #   Column           Non-Null Count  Dtype \n",
      "---  ------           --------------  ----- \n",
      " 0   COUNTY           192 non-null    object\n",
      " 1   School Type      192 non-null    object\n",
      " 2   Employment Body  192 non-null    object\n",
      " 3   No. of Teachers  192 non-null    int64 \n",
      " 4   Year             192 non-null    object\n",
      "dtypes: int64(1), object(4)\n",
      "memory usage: 7.6+ KB\n"
     ]
    }
   ],
   "source": [
    "df.info()"
   ]
  },
  {
   "cell_type": "markdown",
   "metadata": {},
   "source": [
    "**Connect to SQLite, create dbase & table**"
   ]
  },
  {
   "cell_type": "code",
   "execution_count": 13,
   "metadata": {},
   "outputs": [
    {
     "name": "stdout",
     "output_type": "stream",
     "text": [
      "Teachers Table Created\n",
      "Database created\n"
     ]
    }
   ],
   "source": [
    "conn = sqlite3.connect('ROKEducation.db')\n",
    "cursor = conn.cursor()\n",
    "\n",
    "cursor.execute(''' CREATE TABLE IF NOT EXISTS Teachers (\n",
    "        COUNTY TEXT NOT NULL,\n",
    "        School Type TEXT NOT NULL,\n",
    "        Employment Body TEXT NOT NULL,\n",
    "        No_of_Teachers INT NOT NULL,\n",
    "        Year DATETIME NOT NULL)''')\n",
    "\n",
    "conn.commit()\n",
    "\n",
    "print(\"Teachers Table Created\")\n",
    "\n",
    "\n",
    "print(\"Database created\")\n"
   ]
  },
  {
   "cell_type": "code",
   "execution_count": 17,
   "metadata": {},
   "outputs": [
    {
     "name": "stdout",
     "output_type": "stream",
     "text": [
      "Teachers Table Created\n",
      "Database created\n"
     ]
    }
   ],
   "source": [
    "conn = sqlite3.connect('ROKEducation2.db')\n",
    "cursor = conn.cursor()\n",
    "\n",
    "cursor.execute(''' CREATE TABLE IF NOT EXISTS Teachers2 (\n",
    "        COUNTY TEXT NOT NULL,\n",
    "        School Type TEXT NOT NULL,\n",
    "        Employment Body TEXT NOT NULL,\n",
    "        No_of_Teachers INT NOT NULL,\n",
    "        Year DATETIME NOT NULL)''')\n",
    "\n",
    "conn.commit()\n",
    "\n",
    "print(\"Teachers Table Created\")\n",
    "\n",
    "\n",
    "print(\"Database created\")\n"
   ]
  },
  {
   "cell_type": "code",
   "execution_count": 18,
   "metadata": {},
   "outputs": [],
   "source": [
    "#reading df data to Sql. Table name = Teachers\n",
    "#if_exist='replace' allows for an all records drop & created anytime the code runs\n",
    "#index=False (no index is being maintained)\n",
    "\n",
    "df.to_sql('Teachers2', conn, if_exists='replace', index=False)"
   ]
  },
  {
   "cell_type": "markdown",
   "metadata": {},
   "source": [
    "**Populate table (Teachers) in ROKEducation db with data from df**"
   ]
  },
  {
   "cell_type": "code",
   "execution_count": 14,
   "metadata": {},
   "outputs": [
    {
     "name": "stderr",
     "output_type": "stream",
     "text": [
      "C:\\Users\\mnjaa\\anaconda3\\lib\\site-packages\\pandas\\core\\generic.py:2653: UserWarning: The spaces in these column names will not be changed. In pandas versions < 0.14, spaces were converted to underscores.\n",
      "  sql.to_sql(\n"
     ]
    }
   ],
   "source": [
    "#reading df data to Sql. Table name = Teachers\n",
    "#if_exist='replace' allows for an all records drop & created anytime the code runs\n",
    "#index=False (no index is being maintained)\n",
    "\n",
    "df.to_sql('Teachers', conn, if_exists='replace', index=False)\n",
    "\n",
    "#**at the point, the Teachers table is populated in SQLite, the code below preps the data for html**\n",
    "\n"
   ]
  },
  {
   "cell_type": "markdown",
   "metadata": {},
   "source": [
    "**Prepping input for the webbrowser/html**"
   ]
  },
  {
   "cell_type": "code",
   "execution_count": null,
   "metadata": {},
   "outputs": [],
   "source": [
    "#creating a blank list that will be appended into\n",
    "tlog = []\n",
    "\n",
    "#creating a table structure that will be populated by via append from selecting * from the sqlite table\n",
    "\n",
    "tbl=\"<tr><td>County</td><td>School Type</td><td>Employment Body</td><td>No. of Teachers</td><td>Year</td></tr>\"\n",
    "tlog.append(tbl)\n",
    "\n",
    "# Query'ing the sqlite table\n",
    "cursor.execute(\"SELECT * FROM Teachers\")\n",
    "#Insert tuple items to html\n",
    "for y in cursor.fetchall():\n",
    "        a = \"<tr><td>%s</td>\"%y[0]\n",
    "        tlog.append(a)\n",
    "        b = \"<td>%s</td>\"%y[1]\n",
    "        tlog.append(b)\n",
    "        c = \"<td>%s</td>\"%y[2]\n",
    "        tlog.append(c)\n",
    "        d = \"<td>%s</td>\"%y[3]\n",
    "        tlog.append(d)\n",
    "        e = \"<td>%s</td></tr>\"%y[4]\n",
    "        tlog.append(e)\n",
    "\n",
    "\n"
   ]
  },
  {
   "cell_type": "code",
   "execution_count": 19,
   "metadata": {},
   "outputs": [
    {
     "name": "stdout",
     "output_type": "stream",
     "text": [
      "['<tr><td>County</td><td>School Type</td><td>Employment Body</td><td>No. of Teachers</td><td>Year</td></tr>', '<tr><td>Baringo        </td>', '<td>Public </td>', '<td>TSC    </td>', '<td>1172</td>', '<td>12/31/2014 12:00:00 AM</td></tr>', '<tr><td>Bomet          </td>', '<td>Public </td>', '<td>TSC    </td>', '<td>1379</td>', '<td>12/31/2014 12:00:00 AM</td></tr>', '<tr><td>Bungoma        </td>', '<td>Public </td>', '<td>TSC    </td>', '<td>2946</td>', '<td>12/31/2014 12:00:00 AM</td></tr>', '<tr><td>Busia          </td>', '<td>Public </td>', '<td>TSC    </td>', '<td>1182</td>', '<td>12/31/2014 12:00:00 AM</td></tr>', '<tr><td>Elgeyo Marakwet</td>', '<td>Public </td>', '<td>TSC    </td>', '<td>1087</td>', '<td>12/31/2014 12:00:00 AM</td></tr>', '<tr><td>Embu           </td>', '<td>Public </td>', '<td>TSC    </td>', '<td>1491</td>', '<td>12/31/2014 12:00:00 AM</td></tr>', '<tr><td>Garissa        </td>', '<td>Public </td>', '<td>TSC    </td>', '<td>347</td>', '<td>12/31/2014 12:00:00 AM</td></tr>', '<tr><td>Homa Bay       </td>', '<td>Public </td>', '<td>TSC    </td>', '<td>2069</td>', '<td>12/31/2014 12:00:00 AM</td></tr>', '<tr><td>Isiolo         </td>', '<td>Public </td>', '<td>TSC    </td>', '<td>180</td>', '<td>12/31/2014 12:00:00 AM</td></tr>', '<tr><td>Kajiado        </td>', '<td>Public </td>', '<td>TSC    </td>', '<td>753</td>', '<td>12/31/2014 12:00:00 AM</td></tr>', '<tr><td>Kakamega       </td>', '<td>Public </td>', '<td>TSC    </td>', '<td>3558</td>', '<td>12/31/2014 12:00:00 AM</td></tr>', '<tr><td>Kericho        </td>', '<td>Public </td>', '<td>TSC    </td>', '<td>1551</td>', '<td>12/31/2014 12:00:00 AM</td></tr>', '<tr><td>Kiambu         </td>', '<td>Public </td>', '<td>TSC    </td>', '<td>4288</td>', '<td>12/31/2014 12:00:00 AM</td></tr>', '<tr><td>Kilifi         </td>', '<td>Public </td>', '<td>TSC    </td>', '<td>1081</td>', '<td>12/31/2014 12:00:00 AM</td></tr>', '<tr><td>Kirinyaga      </td>', '<td>Public </td>', '<td>TSC    </td>', '<td>1478</td>', '<td>12/31/2014 12:00:00 AM</td></tr>', '<tr><td>Kisii          </td>', '<td>Public </td>', '<td>TSC    </td>', '<td>3863</td>', '<td>12/31/2014 12:00:00 AM</td></tr>', '<tr><td>Kisumu         </td>', '<td>Public </td>', '<td>TSC    </td>', '<td>2213</td>', '<td>12/31/2014 12:00:00 AM</td></tr>', '<tr><td>Kitui          </td>', '<td>Public </td>', '<td>TSC    </td>', '<td>2292</td>', '<td>12/31/2014 12:00:00 AM</td></tr>', '<tr><td>Kwale          </td>', '<td>Public </td>', '<td>TSC    </td>', '<td>710</td>', '<td>12/31/2014 12:00:00 AM</td></tr>', '<tr><td>Laikipia       </td>', '<td>Public </td>', '<td>TSC    </td>', '<td>1029</td>', '<td>12/31/2014 12:00:00 AM</td></tr>', '<tr><td>Lamu           </td>', '<td>Public </td>', '<td>TSC    </td>', '<td>210</td>', '<td>12/31/2014 12:00:00 AM</td></tr>', '<tr><td>Machakos       </td>', '<td>Public </td>', '<td>TSC    </td>', '<td>2849</td>', '<td>12/31/2014 12:00:00 AM</td></tr>', '<tr><td>Makueni        </td>', '<td>Public </td>', '<td>TSC    </td>', '<td>2765</td>', '<td>12/31/2014 12:00:00 AM</td></tr>', '<tr><td>Mandera        </td>', '<td>Public </td>', '<td>TSC    </td>', '<td>432</td>', '<td>12/31/2014 12:00:00 AM</td></tr>', '<tr><td>Marsabit       </td>', '<td>Public </td>', '<td>TSC    </td>', '<td>233</td>', '<td>12/31/2014 12:00:00 AM</td></tr>', '<tr><td>Meru           </td>', '<td>Public </td>', '<td>TSC    </td>', '<td>2819</td>', '<td>12/31/2014 12:00:00 AM</td></tr>', '<tr><td>Migori         </td>', '<td>Public </td>', '<td>TSC    </td>', '<td>1429</td>', '<td>12/31/2014 12:00:00 AM</td></tr>', '<tr><td>Mombasa        </td>', '<td>Public </td>', '<td>TSC    </td>', '<td>648</td>', '<td>12/31/2014 12:00:00 AM</td></tr>', '<tr><td>Muranga        </td>', '<td>Public </td>', '<td>TSC    </td>', '<td>3455</td>', '<td>12/31/2014 12:00:00 AM</td></tr>', '<tr><td>Nairobi        </td>', '<td>Public </td>', '<td>TSC    </td>', '<td>2035</td>', '<td>12/31/2014 12:00:00 AM</td></tr>', '<tr><td>Nakuru         </td>', '<td>Public </td>', '<td>TSC    </td>', '<td>3015</td>', '<td>12/31/2014 12:00:00 AM</td></tr>', '<tr><td>Nandi          </td>', '<td>Public </td>', '<td>TSC    </td>', '<td>1473</td>', '<td>12/31/2014 12:00:00 AM</td></tr>', '<tr><td>Narok          </td>', '<td>Public </td>', '<td>TSC    </td>', '<td>723</td>', '<td>12/31/2014 12:00:00 AM</td></tr>', '<tr><td>Nyamira        </td>', '<td>Public </td>', '<td>TSC    </td>', '<td>1786</td>', '<td>12/31/2014 12:00:00 AM</td></tr>', '<tr><td>Nyandarua      </td>', '<td>Public </td>', '<td>TSC    </td>', '<td>1355</td>', '<td>12/31/2014 12:00:00 AM</td></tr>', '<tr><td>Nyeri          </td>', '<td>Public </td>', '<td>TSC    </td>', '<td>2501</td>', '<td>12/31/2014 12:00:00 AM</td></tr>', '<tr><td>Samburu        </td>', '<td>Public </td>', '<td>TSC    </td>', '<td>288</td>', '<td>12/31/2014 12:00:00 AM</td></tr>', '<tr><td>Siaya          </td>', '<td>Public </td>', '<td>TSC    </td>', '<td>1861</td>', '<td>12/31/2014 12:00:00 AM</td></tr>', '<tr><td>Taita Taveta   </td>', '<td>Public </td>', '<td>TSC    </td>', '<td>707</td>', '<td>12/31/2014 12:00:00 AM</td></tr>', '<tr><td>Tana River     </td>', '<td>Public </td>', '<td>TSC    </td>', '<td>183</td>', '<td>12/31/2014 12:00:00 AM</td></tr>', '<tr><td>Tharaka-Nithi  </td>', '<td>Public </td>', '<td>TSC    </td>', '<td>1295</td>', '<td>12/31/2014 12:00:00 AM</td></tr>', '<tr><td>Trans Nzoia    </td>', '<td>Public </td>', '<td>TSC    </td>', '<td>1340</td>', '<td>12/31/2014 12:00:00 AM</td></tr>', '<tr><td>Turkana        </td>', '<td>Public </td>', '<td>TSC    </td>', '<td>255</td>', '<td>12/31/2014 12:00:00 AM</td></tr>', '<tr><td>Uasin Gishu    </td>', '<td>Public </td>', '<td>TSC    </td>', '<td>1361</td>', '<td>12/31/2014 12:00:00 AM</td></tr>', '<tr><td>Vihiga         </td>', '<td>Public </td>', '<td>TSC    </td>', '<td>1668</td>', '<td>12/31/2014 12:00:00 AM</td></tr>', '<tr><td>Wajir          </td>', '<td>Public </td>', '<td>TSC    </td>', '<td>408</td>', '<td>12/31/2014 12:00:00 AM</td></tr>', '<tr><td>West Pokot     </td>', '<td>Public </td>', '<td>TSC    </td>', '<td>431</td>', '<td>12/31/2014 12:00:00 AM</td></tr>', '<tr><td>Kenya          </td>', '<td>Public </td>', '<td>TSC    </td>', '<td>72194</td>', '<td>12/31/2014 12:00:00 AM</td></tr>', '<tr><td>Baringo        </td>', '<td>Public </td>', '<td>SMC    </td>', '<td>608</td>', '<td>12/31/2014 12:00:00 AM</td></tr>', '<tr><td>Bomet          </td>', '<td>Public </td>', '<td>SMC    </td>', '<td>1261</td>', '<td>12/31/2014 12:00:00 AM</td></tr>', '<tr><td>Bungoma        </td>', '<td>Public </td>', '<td>SMC    </td>', '<td>1745</td>', '<td>12/31/2014 12:00:00 AM</td></tr>', '<tr><td>Busia          </td>', '<td>Public </td>', '<td>SMC    </td>', '<td>903</td>', '<td>12/31/2014 12:00:00 AM</td></tr>', '<tr><td>Elgeyo Marakwet</td>', '<td>Public </td>', '<td>SMC    </td>', '<td>454</td>', '<td>12/31/2014 12:00:00 AM</td></tr>', '<tr><td>Embu           </td>', '<td>Public </td>', '<td>SMC    </td>', '<td>678</td>', '<td>12/31/2014 12:00:00 AM</td></tr>', '<tr><td>Garissa        </td>', '<td>Public </td>', '<td>SMC    </td>', '<td>80</td>', '<td>12/31/2014 12:00:00 AM</td></tr>', '<tr><td>Homa Bay       </td>', '<td>Public </td>', '<td>SMC    </td>', '<td>1566</td>', '<td>12/31/2014 12:00:00 AM</td></tr>', '<tr><td>Isiolo         </td>', '<td>Public </td>', '<td>SMC    </td>', '<td>31</td>', '<td>12/31/2014 12:00:00 AM</td></tr>', '<tr><td>Kajiado        </td>', '<td>Public </td>', '<td>SMC    </td>', '<td>210</td>', '<td>12/31/2014 12:00:00 AM</td></tr>', '<tr><td>Kakamega       </td>', '<td>Public </td>', '<td>SMC    </td>', '<td>2139</td>', '<td>12/31/2014 12:00:00 AM</td></tr>', '<tr><td>Kericho        </td>', '<td>Public </td>', '<td>SMC    </td>', '<td>1119</td>', '<td>12/31/2014 12:00:00 AM</td></tr>', '<tr><td>Kiambu         </td>', '<td>Public </td>', '<td>SMC    </td>', '<td>882</td>', '<td>12/31/2014 12:00:00 AM</td></tr>', '<tr><td>Kilifi         </td>', '<td>Public </td>', '<td>SMC    </td>', '<td>893</td>', '<td>12/31/2014 12:00:00 AM</td></tr>', '<tr><td>Kirinyaga      </td>', '<td>Public </td>', '<td>SMC    </td>', '<td>508</td>', '<td>12/31/2014 12:00:00 AM</td></tr>', '<tr><td>Kisii          </td>', '<td>Public </td>', '<td>SMC    </td>', '<td>1283</td>', '<td>12/31/2014 12:00:00 AM</td></tr>', '<tr><td>Kisumu         </td>', '<td>Public </td>', '<td>SMC    </td>', '<td>1062</td>', '<td>12/31/2014 12:00:00 AM</td></tr>', '<tr><td>Kitui          </td>', '<td>Public </td>', '<td>SMC    </td>', '<td>1544</td>', '<td>12/31/2014 12:00:00 AM</td></tr>', '<tr><td>Kwale          </td>', '<td>Public </td>', '<td>SMC    </td>', '<td>414</td>', '<td>12/31/2014 12:00:00 AM</td></tr>', '<tr><td>Laikipia       </td>', '<td>Public </td>', '<td>SMC    </td>', '<td>289</td>', '<td>12/31/2014 12:00:00 AM</td></tr>', '<tr><td>Lamu           </td>', '<td>Public </td>', '<td>SMC    </td>', '<td>85</td>', '<td>12/31/2014 12:00:00 AM</td></tr>', '<tr><td>Machakos       </td>', '<td>Public </td>', '<td>SMC    </td>', '<td>1405</td>', '<td>12/31/2014 12:00:00 AM</td></tr>', '<tr><td>Makueni        </td>', '<td>Public </td>', '<td>SMC    </td>', '<td>1449</td>', '<td>12/31/2014 12:00:00 AM</td></tr>', '<tr><td>Mandera        </td>', '<td>Public </td>', '<td>SMC    </td>', '<td>104</td>', '<td>12/31/2014 12:00:00 AM</td></tr>', '<tr><td>Marsabit       </td>', '<td>Public </td>', '<td>SMC    </td>', '<td>50</td>', '<td>12/31/2014 12:00:00 AM</td></tr>', '<tr><td>Meru           </td>', '<td>Public </td>', '<td>SMC    </td>', '<td>1470</td>', '<td>12/31/2014 12:00:00 AM</td></tr>', '<tr><td>Migori         </td>', '<td>Public </td>', '<td>SMC    </td>', '<td>1375</td>', '<td>12/31/2014 12:00:00 AM</td></tr>', '<tr><td>Mombasa        </td>', '<td>Public </td>', '<td>SMC    </td>', '<td>175</td>', '<td>12/31/2014 12:00:00 AM</td></tr>', '<tr><td>Muranga        </td>', '<td>Public </td>', '<td>SMC    </td>', '<td>951</td>', '<td>12/31/2014 12:00:00 AM</td></tr>', '<tr><td>Nairobi        </td>', '<td>Public </td>', '<td>SMC    </td>', '<td>416</td>', '<td>12/31/2014 12:00:00 AM</td></tr>', '<tr><td>Nakuru         </td>', '<td>Public </td>', '<td>SMC    </td>', '<td>1387</td>', '<td>12/31/2014 12:00:00 AM</td></tr>', '<tr><td>Nandi          </td>', '<td>Public </td>', '<td>SMC    </td>', '<td>1170</td>', '<td>12/31/2014 12:00:00 AM</td></tr>', '<tr><td>Narok          </td>', '<td>Public </td>', '<td>SMC    </td>', '<td>472</td>', '<td>12/31/2014 12:00:00 AM</td></tr>', '<tr><td>Nyamira        </td>', '<td>Public </td>', '<td>SMC    </td>', '<td>668</td>', '<td>12/31/2014 12:00:00 AM</td></tr>', '<tr><td>Nyandarua      </td>', '<td>Public </td>', '<td>SMC    </td>', '<td>644</td>', '<td>12/31/2014 12:00:00 AM</td></tr>', '<tr><td>Nyeri          </td>', '<td>Public </td>', '<td>SMC    </td>', '<td>640</td>', '<td>12/31/2014 12:00:00 AM</td></tr>', '<tr><td>Samburu        </td>', '<td>Public </td>', '<td>SMC    </td>', '<td>42</td>', '<td>12/31/2014 12:00:00 AM</td></tr>', '<tr><td>Siaya          </td>', '<td>Public </td>', '<td>SMC    </td>', '<td>1196</td>', '<td>12/31/2014 12:00:00 AM</td></tr>', '<tr><td>Taita Taveta   </td>', '<td>Public </td>', '<td>SMC    </td>', '<td>300</td>', '<td>12/31/2014 12:00:00 AM</td></tr>', '<tr><td>Tana River     </td>', '<td>Public </td>', '<td>SMC    </td>', '<td>75</td>', '<td>12/31/2014 12:00:00 AM</td></tr>', '<tr><td>Tharaka-Nithi  </td>', '<td>Public </td>', '<td>SMC    </td>', '<td>601</td>', '<td>12/31/2014 12:00:00 AM</td></tr>', '<tr><td>Trans Nzoia    </td>', '<td>Public </td>', '<td>SMC    </td>', '<td>971</td>', '<td>12/31/2014 12:00:00 AM</td></tr>', '<tr><td>Turkana        </td>', '<td>Public </td>', '<td>SMC    </td>', '<td>144</td>', '<td>12/31/2014 12:00:00 AM</td></tr>', '<tr><td>Uasin Gishu    </td>', '<td>Public </td>', '<td>SMC    </td>', '<td>766</td>', '<td>12/31/2014 12:00:00 AM</td></tr>', '<tr><td>Vihiga         </td>', '<td>Public </td>', '<td>SMC    </td>', '<td>863</td>', '<td>12/31/2014 12:00:00 AM</td></tr>', '<tr><td>Wajir          </td>', '<td>Public </td>', '<td>SMC    </td>', '<td>68</td>', '<td>12/31/2014 12:00:00 AM</td></tr>', '<tr><td>West Pokot     </td>', '<td>Public </td>', '<td>SMC    </td>', '<td>368</td>', '<td>12/31/2014 12:00:00 AM</td></tr>', '<tr><td>Kenya          </td>', '<td>Public </td>', '<td>SMC    </td>', '<td>35524</td>', '<td>12/31/2014 12:00:00 AM</td></tr>', '<tr><td>Baringo        </td>', '<td>Private</td>', '<td>Private</td>', '<td>135</td>', '<td>12/31/2014 12:00:00 AM</td></tr>', '<tr><td>Bomet          </td>', '<td>Private</td>', '<td>Private</td>', '<td>69</td>', '<td>12/31/2014 12:00:00 AM</td></tr>', '<tr><td>Bungoma        </td>', '<td>Private</td>', '<td>Private</td>', '<td>122</td>', '<td>12/31/2014 12:00:00 AM</td></tr>', '<tr><td>Busia          </td>', '<td>Private</td>', '<td>Private</td>', '<td>62</td>', '<td>12/31/2014 12:00:00 AM</td></tr>', '<tr><td>Elgeyo Marakwet</td>', '<td>Private</td>', '<td>Private</td>', '<td>16</td>', '<td>12/31/2014 12:00:00 AM</td></tr>', '<tr><td>Embu           </td>', '<td>Private</td>', '<td>Private</td>', '<td>124</td>', '<td>12/31/2014 12:00:00 AM</td></tr>', '<tr><td>Garissa        </td>', '<td>Private</td>', '<td>Private</td>', '<td>346</td>', '<td>12/31/2014 12:00:00 AM</td></tr>', '<tr><td>Homa Bay       </td>', '<td>Private</td>', '<td>Private</td>', '<td>171</td>', '<td>12/31/2014 12:00:00 AM</td></tr>', '<tr><td>Isiolo         </td>', '<td>Private</td>', '<td>Private</td>', '<td>68</td>', '<td>12/31/2014 12:00:00 AM</td></tr>', '<tr><td>Kajiado        </td>', '<td>Private</td>', '<td>Private</td>', '<td>558</td>', '<td>12/31/2014 12:00:00 AM</td></tr>', '<tr><td>Kakamega       </td>', '<td>Private</td>', '<td>Private</td>', '<td>286</td>', '<td>12/31/2014 12:00:00 AM</td></tr>', '<tr><td>Kericho        </td>', '<td>Private</td>', '<td>Private</td>', '<td>110</td>', '<td>12/31/2014 12:00:00 AM</td></tr>', '<tr><td>Kiambu         </td>', '<td>Private</td>', '<td>Private</td>', '<td>870</td>', '<td>12/31/2014 12:00:00 AM</td></tr>', '<tr><td>Kilifi         </td>', '<td>Private</td>', '<td>Private</td>', '<td>439</td>', '<td>12/31/2014 12:00:00 AM</td></tr>', '<tr><td>Kirinyaga      </td>', '<td>Private</td>', '<td>Private</td>', '<td>76</td>', '<td>12/31/2014 12:00:00 AM</td></tr>', '<tr><td>Kisii          </td>', '<td>Private</td>', '<td>Private</td>', '<td>259</td>', '<td>12/31/2014 12:00:00 AM</td></tr>', '<tr><td>Kisumu         </td>', '<td>Private</td>', '<td>Private</td>', '<td>220</td>', '<td>12/31/2014 12:00:00 AM</td></tr>', '<tr><td>Kitui          </td>', '<td>Private</td>', '<td>Private</td>', '<td>81</td>', '<td>12/31/2014 12:00:00 AM</td></tr>', '<tr><td>Kwale          </td>', '<td>Private</td>', '<td>Private</td>', '<td>49</td>', '<td>12/31/2014 12:00:00 AM</td></tr>', '<tr><td>Laikipia       </td>', '<td>Private</td>', '<td>Private</td>', '<td>176</td>', '<td>12/31/2014 12:00:00 AM</td></tr>', '<tr><td>Lamu           </td>', '<td>Private</td>', '<td>Private</td>', '<td>29</td>', '<td>12/31/2014 12:00:00 AM</td></tr>', '<tr><td>Machakos       </td>', '<td>Private</td>', '<td>Private</td>', '<td>582</td>', '<td>12/31/2014 12:00:00 AM</td></tr>', '<tr><td>Makueni        </td>', '<td>Private</td>', '<td>Private</td>', '<td>193</td>', '<td>12/31/2014 12:00:00 AM</td></tr>', '<tr><td>Mandera        </td>', '<td>Private</td>', '<td>Private</td>', '<td>50</td>', '<td>12/31/2014 12:00:00 AM</td></tr>', '<tr><td>Marsabit       </td>', '<td>Private</td>', '<td>Private</td>', '<td>36</td>', '<td>12/31/2014 12:00:00 AM</td></tr>', '<tr><td>Meru           </td>', '<td>Private</td>', '<td>Private</td>', '<td>229</td>', '<td>12/31/2014 12:00:00 AM</td></tr>', '<tr><td>Migori         </td>', '<td>Private</td>', '<td>Private</td>', '<td>196</td>', '<td>12/31/2014 12:00:00 AM</td></tr>', '<tr><td>Mombasa        </td>', '<td>Private</td>', '<td>Private</td>', '<td>770</td>', '<td>12/31/2014 12:00:00 AM</td></tr>', '<tr><td>Muranga        </td>', '<td>Private</td>', '<td>Private</td>', '<td>261</td>', '<td>12/31/2014 12:00:00 AM</td></tr>', '<tr><td>Nairobi        </td>', '<td>Private</td>', '<td>Private</td>', '<td>1641</td>', '<td>12/31/2014 12:00:00 AM</td></tr>', '<tr><td>Nakuru         </td>', '<td>Private</td>', '<td>Private</td>', '<td>1110</td>', '<td>12/31/2014 12:00:00 AM</td></tr>', '<tr><td>Nandi          </td>', '<td>Private</td>', '<td>Private</td>', '<td>87</td>', '<td>12/31/2014 12:00:00 AM</td></tr>', '<tr><td>Narok          </td>', '<td>Private</td>', '<td>Private</td>', '<td>65</td>', '<td>12/31/2014 12:00:00 AM</td></tr>', '<tr><td>Nyamira        </td>', '<td>Private</td>', '<td>Private</td>', '<td>52</td>', '<td>12/31/2014 12:00:00 AM</td></tr>', '<tr><td>Nyandarua      </td>', '<td>Private</td>', '<td>Private</td>', '<td>412</td>', '<td>12/31/2014 12:00:00 AM</td></tr>', '<tr><td>Nyeri          </td>', '<td>Private</td>', '<td>Private</td>', '<td>233</td>', '<td>12/31/2014 12:00:00 AM</td></tr>', '<tr><td>Samburu        </td>', '<td>Private</td>', '<td>Private</td>', '<td>38</td>', '<td>12/31/2014 12:00:00 AM</td></tr>', '<tr><td>Siaya          </td>', '<td>Private</td>', '<td>Private</td>', '<td>39</td>', '<td>12/31/2014 12:00:00 AM</td></tr>', '<tr><td>Taita Taveta   </td>', '<td>Private</td>', '<td>Private</td>', '<td>48</td>', '<td>12/31/2014 12:00:00 AM</td></tr>', '<tr><td>Tana River     </td>', '<td>Private</td>', '<td>Private</td>', '<td>14</td>', '<td>12/31/2014 12:00:00 AM</td></tr>', '<tr><td>Tharaka-Nithi  </td>', '<td>Private</td>', '<td>Private</td>', '<td>86</td>', '<td>12/31/2014 12:00:00 AM</td></tr>', '<tr><td>Trans Nzoia    </td>', '<td>Private</td>', '<td>Private</td>', '<td>89</td>', '<td>12/31/2014 12:00:00 AM</td></tr>', '<tr><td>Turkana        </td>', '<td>Private</td>', '<td>Private</td>', '<td>96</td>', '<td>12/31/2014 12:00:00 AM</td></tr>', '<tr><td>Uasin Gishu    </td>', '<td>Private</td>', '<td>Private</td>', '<td>225</td>', '<td>12/31/2014 12:00:00 AM</td></tr>', '<tr><td>Vihiga         </td>', '<td>Private</td>', '<td>Private</td>', '<td>23</td>', '<td>12/31/2014 12:00:00 AM</td></tr>', '<tr><td>Wajir          </td>', '<td>Private</td>', '<td>Private</td>', '<td>45</td>', '<td>12/31/2014 12:00:00 AM</td></tr>', '<tr><td>West Pokot     </td>', '<td>Private</td>', '<td>Private</td>', '<td>4</td>', '<td>12/31/2014 12:00:00 AM</td></tr>', '<tr><td>Kenya          </td>', '<td>Private</td>', '<td>Private</td>', '<td>10890</td>', '<td>12/31/2014 12:00:00 AM</td></tr>', '<tr><td>Baringo        </td>', '<td>Private</td>', '<td>TSC    </td>', '<td>0</td>', '<td>12/31/2014 12:00:00 AM</td></tr>', '<tr><td>Bomet          </td>', '<td>Private</td>', '<td>TSC    </td>', '<td>0</td>', '<td>12/31/2014 12:00:00 AM</td></tr>', '<tr><td>Bungoma        </td>', '<td>Private</td>', '<td>TSC    </td>', '<td>0</td>', '<td>12/31/2014 12:00:00 AM</td></tr>', '<tr><td>Busia          </td>', '<td>Private</td>', '<td>TSC    </td>', '<td>0</td>', '<td>12/31/2014 12:00:00 AM</td></tr>', '<tr><td>Elgeyo Marakwet</td>', '<td>Private</td>', '<td>TSC    </td>', '<td>0</td>', '<td>12/31/2014 12:00:00 AM</td></tr>', '<tr><td>Embu           </td>', '<td>Private</td>', '<td>TSC    </td>', '<td>0</td>', '<td>12/31/2014 12:00:00 AM</td></tr>', '<tr><td>Garissa        </td>', '<td>Private</td>', '<td>TSC    </td>', '<td>0</td>', '<td>12/31/2014 12:00:00 AM</td></tr>', '<tr><td>Homa Bay       </td>', '<td>Private</td>', '<td>TSC    </td>', '<td>0</td>', '<td>12/31/2014 12:00:00 AM</td></tr>', '<tr><td>Isiolo         </td>', '<td>Private</td>', '<td>TSC    </td>', '<td>0</td>', '<td>12/31/2014 12:00:00 AM</td></tr>', '<tr><td>Kajiado        </td>', '<td>Private</td>', '<td>TSC    </td>', '<td>0</td>', '<td>12/31/2014 12:00:00 AM</td></tr>', '<tr><td>Kakamega       </td>', '<td>Private</td>', '<td>TSC    </td>', '<td>0</td>', '<td>12/31/2014 12:00:00 AM</td></tr>', '<tr><td>Kericho        </td>', '<td>Private</td>', '<td>TSC    </td>', '<td>0</td>', '<td>12/31/2014 12:00:00 AM</td></tr>', '<tr><td>Kiambu         </td>', '<td>Private</td>', '<td>TSC    </td>', '<td>0</td>', '<td>12/31/2014 12:00:00 AM</td></tr>', '<tr><td>Kilifi         </td>', '<td>Private</td>', '<td>TSC    </td>', '<td>0</td>', '<td>12/31/2014 12:00:00 AM</td></tr>', '<tr><td>Kirinyaga      </td>', '<td>Private</td>', '<td>TSC    </td>', '<td>0</td>', '<td>12/31/2014 12:00:00 AM</td></tr>', '<tr><td>Kisii          </td>', '<td>Private</td>', '<td>TSC    </td>', '<td>0</td>', '<td>12/31/2014 12:00:00 AM</td></tr>', '<tr><td>Kisumu         </td>', '<td>Private</td>', '<td>TSC    </td>', '<td>0</td>', '<td>12/31/2014 12:00:00 AM</td></tr>', '<tr><td>Kitui          </td>', '<td>Private</td>', '<td>TSC    </td>', '<td>0</td>', '<td>12/31/2014 12:00:00 AM</td></tr>', '<tr><td>Kwale          </td>', '<td>Private</td>', '<td>TSC    </td>', '<td>0</td>', '<td>12/31/2014 12:00:00 AM</td></tr>', '<tr><td>Laikipia       </td>', '<td>Private</td>', '<td>TSC    </td>', '<td>0</td>', '<td>12/31/2014 12:00:00 AM</td></tr>', '<tr><td>Lamu           </td>', '<td>Private</td>', '<td>TSC    </td>', '<td>0</td>', '<td>12/31/2014 12:00:00 AM</td></tr>', '<tr><td>Machakos       </td>', '<td>Private</td>', '<td>TSC    </td>', '<td>0</td>', '<td>12/31/2014 12:00:00 AM</td></tr>', '<tr><td>Makueni        </td>', '<td>Private</td>', '<td>TSC    </td>', '<td>0</td>', '<td>12/31/2014 12:00:00 AM</td></tr>', '<tr><td>Mandera        </td>', '<td>Private</td>', '<td>TSC    </td>', '<td>0</td>', '<td>12/31/2014 12:00:00 AM</td></tr>', '<tr><td>Marsabit       </td>', '<td>Private</td>', '<td>TSC    </td>', '<td>0</td>', '<td>12/31/2014 12:00:00 AM</td></tr>', '<tr><td>Meru           </td>', '<td>Private</td>', '<td>TSC    </td>', '<td>0</td>', '<td>12/31/2014 12:00:00 AM</td></tr>', '<tr><td>Migori         </td>', '<td>Private</td>', '<td>TSC    </td>', '<td>0</td>', '<td>12/31/2014 12:00:00 AM</td></tr>', '<tr><td>Mombasa        </td>', '<td>Private</td>', '<td>TSC    </td>', '<td>0</td>', '<td>12/31/2014 12:00:00 AM</td></tr>', '<tr><td>Muranga        </td>', '<td>Private</td>', '<td>TSC    </td>', '<td>0</td>', '<td>12/31/2014 12:00:00 AM</td></tr>', '<tr><td>Nairobi        </td>', '<td>Private</td>', '<td>TSC    </td>', '<td>0</td>', '<td>12/31/2014 12:00:00 AM</td></tr>', '<tr><td>Nakuru         </td>', '<td>Private</td>', '<td>TSC    </td>', '<td>0</td>', '<td>12/31/2014 12:00:00 AM</td></tr>', '<tr><td>Nandi          </td>', '<td>Private</td>', '<td>TSC    </td>', '<td>0</td>', '<td>12/31/2014 12:00:00 AM</td></tr>', '<tr><td>Narok          </td>', '<td>Private</td>', '<td>TSC    </td>', '<td>0</td>', '<td>12/31/2014 12:00:00 AM</td></tr>', '<tr><td>Nyamira        </td>', '<td>Private</td>', '<td>TSC    </td>', '<td>0</td>', '<td>12/31/2014 12:00:00 AM</td></tr>', '<tr><td>Nyandarua      </td>', '<td>Private</td>', '<td>TSC    </td>', '<td>0</td>', '<td>12/31/2014 12:00:00 AM</td></tr>', '<tr><td>Nyeri          </td>', '<td>Private</td>', '<td>TSC    </td>', '<td>0</td>', '<td>12/31/2014 12:00:00 AM</td></tr>', '<tr><td>Samburu        </td>', '<td>Private</td>', '<td>TSC    </td>', '<td>0</td>', '<td>12/31/2014 12:00:00 AM</td></tr>', '<tr><td>Siaya          </td>', '<td>Private</td>', '<td>TSC    </td>', '<td>0</td>', '<td>12/31/2014 12:00:00 AM</td></tr>', '<tr><td>Taita Taveta   </td>', '<td>Private</td>', '<td>TSC    </td>', '<td>0</td>', '<td>12/31/2014 12:00:00 AM</td></tr>', '<tr><td>Tana River     </td>', '<td>Private</td>', '<td>TSC    </td>', '<td>0</td>', '<td>12/31/2014 12:00:00 AM</td></tr>', '<tr><td>Tharaka-Nithi  </td>', '<td>Private</td>', '<td>TSC    </td>', '<td>0</td>', '<td>12/31/2014 12:00:00 AM</td></tr>', '<tr><td>Trans Nzoia    </td>', '<td>Private</td>', '<td>TSC    </td>', '<td>0</td>', '<td>12/31/2014 12:00:00 AM</td></tr>', '<tr><td>Turkana        </td>', '<td>Private</td>', '<td>TSC    </td>', '<td>0</td>', '<td>12/31/2014 12:00:00 AM</td></tr>', '<tr><td>Uasin Gishu    </td>', '<td>Private</td>', '<td>TSC    </td>', '<td>0</td>', '<td>12/31/2014 12:00:00 AM</td></tr>', '<tr><td>Vihiga         </td>', '<td>Private</td>', '<td>TSC    </td>', '<td>0</td>', '<td>12/31/2014 12:00:00 AM</td></tr>', '<tr><td>Wajir          </td>', '<td>Private</td>', '<td>TSC    </td>', '<td>0</td>', '<td>12/31/2014 12:00:00 AM</td></tr>', '<tr><td>West Pokot     </td>', '<td>Private</td>', '<td>TSC    </td>', '<td>0</td>', '<td>12/31/2014 12:00:00 AM</td></tr>', '<tr><td>Kenya          </td>', '<td>Private</td>', '<td>TSC    </td>', '<td>0</td>', '<td>12/31/2014 12:00:00 AM</td></tr>']\n"
     ]
    }
   ],
   "source": [
    "print(tlog)"
   ]
  },
  {
   "cell_type": "markdown",
   "metadata": {},
   "source": [
    "**Displaying Table Teachers data in webbrowser**"
   ]
  },
  {
   "cell_type": "code",
   "execution_count": 20,
   "metadata": {},
   "outputs": [
    {
     "data": {
      "text/plain": [
       "True"
      ]
     },
     "execution_count": 20,
     "metadata": {},
     "output_type": "execute_result"
    }
   ],
   "source": [
    "import webbrowser\n",
    "\n",
    " # Create html file\n",
    "f = open('hrec.html', 'w')\n",
    "\n",
    "# html docstring\n",
    "the_html = '''<!DOCTYPE html>\n",
    "    <html lang=\"en\">\n",
    "    <head>\n",
    "        <meta cSharset=\"UTF-8\">\n",
    "        <meta http-equiv=\"X-UA-Compatible\" content=\"IE=edge\">\n",
    "        <meta name=\"viewport\" content=\"width=device-width, initial-scale=1.0\">\n",
    "        <title>Ministry of Education</title>\n",
    "    </head>\n",
    "    <body>\n",
    "        <h1>Teacher Records</h1>\n",
    "        <table style=\"border: solid; border-spacing: 25px, border-collapse: collapse;\">\n",
    "        <thead><caption><h2> TEACHERS </h2></caption></thead>\n",
    "        %s\n",
    "        </table>\n",
    "        \n",
    "    </body>\n",
    "    </html>''' % (tlog)  # from list\n",
    "\n",
    "# write to html file\n",
    "f.write(the_html)\n",
    "    # close file\n",
    "f.close()\n",
    "\n",
    "    # Open file in browser\n",
    "webbrowser.open_new_tab('hrec.html')"
   ]
  },
  {
   "cell_type": "markdown",
   "metadata": {},
   "source": [
    "**Display DF in html/ no SQLite step**"
   ]
  },
  {
   "cell_type": "code",
   "execution_count": 22,
   "metadata": {},
   "outputs": [
    {
     "data": {
      "text/plain": [
       "True"
      ]
     },
     "execution_count": 22,
     "metadata": {},
     "output_type": "execute_result"
    }
   ],
   "source": [
    "html = df.to_html()\n",
    "  \n",
    "# write html to file\n",
    "text_file = open(\"index.html\", \"w\")\n",
    "text_file.write(html)\n",
    "text_file.close()\n",
    "\n",
    "\n",
    "# Open file in browser\n",
    "webbrowser.open_new_tab('index.html')"
   ]
  }
 ],
 "metadata": {
  "kernelspec": {
   "display_name": "Python 3",
   "language": "python",
   "name": "python3"
  },
  "language_info": {
   "codemirror_mode": {
    "name": "ipython",
    "version": 3
   },
   "file_extension": ".py",
   "mimetype": "text/x-python",
   "name": "python",
   "nbconvert_exporter": "python",
   "pygments_lexer": "ipython3",
   "version": "3.8.3"
  }
 },
 "nbformat": 4,
 "nbformat_minor": 4
}
